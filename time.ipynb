{
 "cells": [
  {
   "cell_type": "code",
   "execution_count": 1,
   "metadata": {},
   "outputs": [],
   "source": [
    "import pandas as pd\n",
    "EU_Milk = pd.read_pickle('data/eu.pickle')\n",
    "US_Milk = pd.read_pickle('data/us.pickle')\n",
    "China_Milk = pd.read_pickle('data/cn.pickle')\n",
    "Fred = pd.read_pickle('data/fred.pickle')"
   ]
  },
  {
   "cell_type": "code",
   "execution_count": null,
   "metadata": {},
   "outputs": [],
   "source": [
    "from pycaret"
   ]
  }
 ],
 "metadata": {
  "kernelspec": {
   "display_name": "Python 3.9.12 ('lowcode')",
   "language": "python",
   "name": "python3"
  },
  "language_info": {
   "codemirror_mode": {
    "name": "ipython",
    "version": 3
   },
   "file_extension": ".py",
   "mimetype": "text/x-python",
   "name": "python",
   "nbconvert_exporter": "python",
   "pygments_lexer": "ipython3",
   "version": "3.9.12"
  },
  "orig_nbformat": 4,
  "vscode": {
   "interpreter": {
    "hash": "075a9630f4a79d1aeef8aeb2581285fb2508055680af06b21d7878c8f88b4646"
   }
  }
 },
 "nbformat": 4,
 "nbformat_minor": 2
}
