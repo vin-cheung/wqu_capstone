{
 "cells":[
  {
   "cell_type":"markdown",
   "source":[
    "# 1. Introduction\n",
    "\n",
    "The purpose of this massive Granger Causality Tests is to identify any historical value of the Fred factors to the milk price in different country \/ regions.  While the other correlation \/ regression analysis of this study is focusing on matching the values of the same time point, Granger Causality Test is focusing on the time-lagged version of the Fred factors on predicting the future values of milk price."
   ],
   "attachments":{
    
   },
   "metadata":{
    "datalore":{
     "type":"MD",
     "hide_input_from_viewers":false,
     "hide_output_from_viewers":false,
     "node_id":"iisuvKvaAA72Ry5wKS57iX"
    }
   }
  },
  {
   "cell_type":"code",
   "source":[
    "import pandas as pd\n",
    "from statsmodels.tsa.stattools import grangercausalitytests as gct"
   ],
   "execution_count":1,
   "outputs":[
    
   ],
   "metadata":{
    "datalore":{
     "type":"CODE",
     "hide_input_from_viewers":false,
     "hide_output_from_viewers":false,
     "node_id":"WsNLh9kNtIaLKixApJcaB7"
    }
   }
  },
  {
   "cell_type":"markdown",
   "source":[
    "# 2. Import and Processing Data"
   ],
   "attachments":{
    
   },
   "metadata":{
    "datalore":{
     "type":"MD",
     "hide_input_from_viewers":false,
     "hide_output_from_viewers":false,
     "node_id":"da2m5WpoqcrVnTxjulxvfB"
    }
   }
  },
  {
   "cell_type":"code",
   "source":[
    "EU_Milk = pd.read_pickle('data\/eu.pickle')\n",
    "US_Milk = pd.read_pickle('data\/us.pickle')\n",
    "china_Milk = pd.read_pickle('data\/cn.pickle')\n",
    "fred = pd.read_pickle('data\/fred.pickle')"
   ],
   "execution_count":2,
   "outputs":[
    
   ],
   "metadata":{
    "datalore":{
     "type":"CODE",
     "hide_input_from_viewers":false,
     "hide_output_from_viewers":false,
     "node_id":"VLPuGHvuW8Z9FtuW46fvot"
    }
   }
  },
  {
   "cell_type":"markdown",
   "source":[
    "# 3. Define Functions to Facilitate Batch Granger Causality Test"
   ],
   "attachments":{
    
   },
   "metadata":{
    "datalore":{
     "type":"MD",
     "hide_input_from_viewers":false,
     "hide_output_from_viewers":false,
     "node_id":"U6Sy3SZhzhMPDThH1K93qa"
    }
   }
  },
  {
   "cell_type":"code",
   "source":[
    "# This function returns the time logs, from 1 month to 1 year, on whether the 2nd time series Granger-cause the 1st one under the 0.05 p-value.\n",
    "def gct_lags(s1, s2):\n",
    "    try:\n",
    "        result = gct(s1.to_frame().join(s2).dropna(), maxlag=6, verbose=False)\n",
    "        # extract the result of just the F-test and whether the null hypothesis of \"no Granger-cause\" is rejected for all 12 time lags\n",
    "        rejected = [result[l][0]['ssr_ftest'][1] < 0.05 for l in range(1, 7)]\n",
    "    except ValueError:\n",
    "        rejected = [False,False,False,False,False,False]\n",
    "    # return a tuple of time lags with null hypothesis rejected\n",
    "    return tuple(i+1 for i, v in enumerate(rejected) if v)\n",
    "\n",
    "# Thie function produce the matrix of Granger-casual time lags between 2 dataframes of time series\n",
    "def gct_lags_matrix(df1, df2):\n",
    "    matrix = pd.DataFrame([[gct_lags(df1[a], df2[b]) for a in df1] for b in df2], index=df2.columns, columns=df1.columns).astype(str)\n",
    "    # to improve the displace of results for \"All\" or \"None\" cases\n",
    "    return matrix.replace(to_replace={'(1, 2, 3, 4, 5, 6)':'All', '()':'None'})"
   ],
   "execution_count":3,
   "outputs":[
    
   ],
   "metadata":{
    "datalore":{
     "type":"CODE",
     "hide_input_from_viewers":false,
     "hide_output_from_viewers":false,
     "node_id":"GRW21FPbdXvm8IKgWbCszX"
    }
   }
  },
  {
   "cell_type":"markdown",
   "source":[
    "# 4. Results"
   ],
   "attachments":{
    
   },
   "metadata":{
    "datalore":{
     "type":"MD",
     "hide_input_from_viewers":false,
     "hide_output_from_viewers":false,
     "node_id":"t0uuhRiHIaiJHfzT3O9pGJ"
    }
   }
  },
  {
   "cell_type":"markdown",
   "source":[
    "## EU"
   ],
   "attachments":{
    
   },
   "metadata":{
    "datalore":{
     "type":"MD",
     "hide_input_from_viewers":false,
     "hide_output_from_viewers":false,
     "node_id":"KsVAxkEPJ0hKndEZ26S3o5"
    }
   }
  },
  {
   "cell_type":"code",
   "source":[
    "granger_EU_9205 = gct_lags_matrix(EU_Milk.loc['1992-01-01':'2005-12-31'], fred.loc['1992-01-01':'2005-12-31'])\n",
    "granger_EU_9205"
   ],
   "execution_count":17,
   "outputs":[
    {
     "data":{
      "text\/html":[
       "<div>\n",
       "<style scoped>\n",
       "    .dataframe tbody tr th:only-of-type {\n",
       "        vertical-align: middle;\n",
       "    }\n",
       "\n",
       "    .dataframe tbody tr th {\n",
       "        vertical-align: top;\n",
       "    }\n",
       "\n",
       "    .dataframe thead th {\n",
       "        text-align: right;\n",
       "    }\n",
       "<\/style>\n",
       "<table border=\"1\" class=\"dataframe\">\n",
       "  <thead>\n",
       "    <tr style=\"text-align: right;\">\n",
       "      <th><\/th>\n",
       "      <th>Germany<\/th>\n",
       "      <th>France<\/th>\n",
       "      <th>Netherlands<\/th>\n",
       "      <th>Italy<\/th>\n",
       "      <th>Poland<\/th>\n",
       "      <th>Ireland<\/th>\n",
       "      <th>Spain<\/th>\n",
       "      <th>Denmark<\/th>\n",
       "      <th>Belgium<\/th>\n",
       "      <th>Austria<\/th>\n",
       "      <th>EU(without UK)<\/th>\n",
       "    <\/tr>\n",
       "  <\/thead>\n",
       "  <tbody>\n",
       "    <tr>\n",
       "      <th>MCOILBRENTEU<\/th>\n",
       "      <td>None<\/td>\n",
       "      <td>(5, 6)<\/td>\n",
       "      <td>(3,)<\/td>\n",
       "      <td>None<\/td>\n",
       "      <td>None<\/td>\n",
       "      <td>None<\/td>\n",
       "      <td>None<\/td>\n",
       "      <td>None<\/td>\n",
       "      <td>None<\/td>\n",
       "      <td>None<\/td>\n",
       "      <td>None<\/td>\n",
       "    <\/tr>\n",
       "    <tr>\n",
       "      <th>MCOILWTICO<\/th>\n",
       "      <td>None<\/td>\n",
       "      <td>(5, 6)<\/td>\n",
       "      <td>(3,)<\/td>\n",
       "      <td>None<\/td>\n",
       "      <td>None<\/td>\n",
       "      <td>None<\/td>\n",
       "      <td>None<\/td>\n",
       "      <td>None<\/td>\n",
       "      <td>None<\/td>\n",
       "      <td>None<\/td>\n",
       "      <td>None<\/td>\n",
       "    <\/tr>\n",
       "    <tr>\n",
       "      <th>MHHNGSP<\/th>\n",
       "      <td>None<\/td>\n",
       "      <td>None<\/td>\n",
       "      <td>None<\/td>\n",
       "      <td>None<\/td>\n",
       "      <td>None<\/td>\n",
       "      <td>None<\/td>\n",
       "      <td>None<\/td>\n",
       "      <td>None<\/td>\n",
       "      <td>None<\/td>\n",
       "      <td>None<\/td>\n",
       "      <td>None<\/td>\n",
       "    <\/tr>\n",
       "    <tr>\n",
       "      <th>PBARLUSDM<\/th>\n",
       "      <td>(3, 4, 5, 6)<\/td>\n",
       "      <td>None<\/td>\n",
       "      <td>None<\/td>\n",
       "      <td>(1,)<\/td>\n",
       "      <td>None<\/td>\n",
       "      <td>(3, 4, 5, 6)<\/td>\n",
       "      <td>None<\/td>\n",
       "      <td>None<\/td>\n",
       "      <td>None<\/td>\n",
       "      <td>(3, 4, 5, 6)<\/td>\n",
       "      <td>None<\/td>\n",
       "    <\/tr>\n",
       "    <tr>\n",
       "      <th>PMAIZMTUSDM<\/th>\n",
       "      <td>None<\/td>\n",
       "      <td>(2,)<\/td>\n",
       "      <td>None<\/td>\n",
       "      <td>(1, 2, 3, 4)<\/td>\n",
       "      <td>(4, 5, 6)<\/td>\n",
       "      <td>(2, 3)<\/td>\n",
       "      <td>None<\/td>\n",
       "      <td>None<\/td>\n",
       "      <td>(3,)<\/td>\n",
       "      <td>None<\/td>\n",
       "      <td>None<\/td>\n",
       "    <\/tr>\n",
       "    <tr>\n",
       "      <th>PNGASEUUSDM<\/th>\n",
       "      <td>None<\/td>\n",
       "      <td>None<\/td>\n",
       "      <td>None<\/td>\n",
       "      <td>None<\/td>\n",
       "      <td>None<\/td>\n",
       "      <td>None<\/td>\n",
       "      <td>None<\/td>\n",
       "      <td>None<\/td>\n",
       "      <td>None<\/td>\n",
       "      <td>None<\/td>\n",
       "      <td>None<\/td>\n",
       "    <\/tr>\n",
       "    <tr>\n",
       "      <th>PSOYBUSDM<\/th>\n",
       "      <td>(2,)<\/td>\n",
       "      <td>(2, 3, 4, 5, 6)<\/td>\n",
       "      <td>None<\/td>\n",
       "      <td>None<\/td>\n",
       "      <td>(5,)<\/td>\n",
       "      <td>(2, 3, 4, 5, 6)<\/td>\n",
       "      <td>None<\/td>\n",
       "      <td>(2, 3, 4, 5, 6)<\/td>\n",
       "      <td>(2, 3, 4)<\/td>\n",
       "      <td>None<\/td>\n",
       "      <td>None<\/td>\n",
       "    <\/tr>\n",
       "    <tr>\n",
       "      <th>PWHEAMTUSDM<\/th>\n",
       "      <td>None<\/td>\n",
       "      <td>(2, 3)<\/td>\n",
       "      <td>None<\/td>\n",
       "      <td>All<\/td>\n",
       "      <td>None<\/td>\n",
       "      <td>None<\/td>\n",
       "      <td>None<\/td>\n",
       "      <td>(4,)<\/td>\n",
       "      <td>(2, 3, 4, 5)<\/td>\n",
       "      <td>None<\/td>\n",
       "      <td>None<\/td>\n",
       "    <\/tr>\n",
       "    <tr>\n",
       "      <th>IPG32411S<\/th>\n",
       "      <td>None<\/td>\n",
       "      <td>None<\/td>\n",
       "      <td>None<\/td>\n",
       "      <td>None<\/td>\n",
       "      <td>None<\/td>\n",
       "      <td>None<\/td>\n",
       "      <td>None<\/td>\n",
       "      <td>None<\/td>\n",
       "      <td>None<\/td>\n",
       "      <td>None<\/td>\n",
       "      <td>None<\/td>\n",
       "    <\/tr>\n",
       "    <tr>\n",
       "      <th>A33DNO<\/th>\n",
       "      <td>None<\/td>\n",
       "      <td>None<\/td>\n",
       "      <td>None<\/td>\n",
       "      <td>None<\/td>\n",
       "      <td>None<\/td>\n",
       "      <td>None<\/td>\n",
       "      <td>None<\/td>\n",
       "      <td>None<\/td>\n",
       "      <td>None<\/td>\n",
       "      <td>None<\/td>\n",
       "      <td>None<\/td>\n",
       "    <\/tr>\n",
       "    <tr>\n",
       "      <th>PCEC96<\/th>\n",
       "      <td>None<\/td>\n",
       "      <td>(2, 3, 4, 5)<\/td>\n",
       "      <td>(5, 6)<\/td>\n",
       "      <td>None<\/td>\n",
       "      <td>(2, 4, 5, 6)<\/td>\n",
       "      <td>None<\/td>\n",
       "      <td>None<\/td>\n",
       "      <td>None<\/td>\n",
       "      <td>(3, 4)<\/td>\n",
       "      <td>(3,)<\/td>\n",
       "      <td>None<\/td>\n",
       "    <\/tr>\n",
       "  <\/tbody>\n",
       "<\/table>\n",
       "<\/div>"
      ]
     },
     "metadata":{
      
     },
     "output_type":"display_data"
    }
   ],
   "metadata":{
    "datalore":{
     "type":"CODE",
     "hide_input_from_viewers":false,
     "hide_output_from_viewers":false,
     "node_id":"1CnbtO4X9mhKCrlB4LQaa7"
    }
   }
  },
  {
   "cell_type":"code",
   "source":[
    "#string = granger_EU_9205.iloc[:,:5].to_latex()"
   ],
   "execution_count":31,
   "outputs":[
    
   ],
   "metadata":{
    "datalore":{
     "type":"CODE",
     "hide_input_from_viewers":false,
     "hide_output_from_viewers":false,
     "node_id":"57A9goTYrjNmNGkdOIAmsc"
    }
   }
  },
  {
   "cell_type":"code",
   "source":[
    "#string.replace('  ','').replace('\\\\begin{tabular}{llllll}','').replace('\\\\end{tabular}','').replace('\\\\\\\\','\\\\').replace('\\\\\\\\\\\\\\\\\\\\\\\\','\\\\').replace('\\n','').replace('\\\\toprule','').replace('\\\\midrule','').replace('\\\\bottomrule','')"
   ],
   "execution_count":32,
   "outputs":[
    
   ],
   "metadata":{
    "datalore":{
     "type":"CODE",
     "hide_input_from_viewers":false,
     "hide_output_from_viewers":false,
     "node_id":"659sFhmAUTkFGOfEodbdfG"
    }
   }
  },
  {
   "cell_type":"code",
   "source":[
    "#string = granger_EU_9205.iloc[:,5:10].to_latex()\n",
    "#string.replace('  ','').replace('\\\\begin{tabular}{llllll}','').replace('\\\\end{tabular}','').replace('\\\\\\\\','\\\\').replace('\\\\\\\\\\\\\\\\\\\\\\\\','\\\\').replace('\\n','').replace('\\\\toprule','').replace('\\\\midrule','').replace('\\\\bottomrule','')"
   ],
   "execution_count":33,
   "outputs":[
    
   ],
   "metadata":{
    "datalore":{
     "type":"CODE",
     "hide_input_from_viewers":false,
     "hide_output_from_viewers":false,
     "node_id":"CIMInEBjSky65EjxPVqSlI"
    }
   }
  },
  {
   "cell_type":"code",
   "source":[
    "granger_EU_0622 = gct_lags_matrix(EU_Milk.loc['2006-01-01':], fred.loc['2006-01-01':])\n",
    "'''\n",
    "string = granger_EU_0622.iloc[:,:5].to_latex()\n",
    "string.replace('  ','').replace('\\\\begin{tabular}{llllll}','').replace('\\\\end{tabular}','').replace('\\\\\\\\','\\\\').replace('\\\\\\\\\\\\\\\\\\\\\\\\','\\\\').replace('\\n','').replace('\\\\toprule','').replace('\\\\midrule','').replace('\\\\bottomrule','')\n",
    "'''\n",
    "granger_EU_0622"
   ],
   "execution_count":28,
   "outputs":[
    {
     "data":{
      "text\/html":[
       "<div>\n",
       "<style scoped>\n",
       "    .dataframe tbody tr th:only-of-type {\n",
       "        vertical-align: middle;\n",
       "    }\n",
       "\n",
       "    .dataframe tbody tr th {\n",
       "        vertical-align: top;\n",
       "    }\n",
       "\n",
       "    .dataframe thead th {\n",
       "        text-align: right;\n",
       "    }\n",
       "<\/style>\n",
       "<table border=\"1\" class=\"dataframe\">\n",
       "  <thead>\n",
       "    <tr style=\"text-align: right;\">\n",
       "      <th><\/th>\n",
       "      <th>Germany<\/th>\n",
       "      <th>France<\/th>\n",
       "      <th>Netherlands<\/th>\n",
       "      <th>Italy<\/th>\n",
       "      <th>Poland<\/th>\n",
       "      <th>Ireland<\/th>\n",
       "      <th>Spain<\/th>\n",
       "      <th>Denmark<\/th>\n",
       "      <th>Belgium<\/th>\n",
       "      <th>Austria<\/th>\n",
       "      <th>EU(without UK)<\/th>\n",
       "    <\/tr>\n",
       "  <\/thead>\n",
       "  <tbody>\n",
       "    <tr>\n",
       "      <th>MCOILBRENTEU<\/th>\n",
       "      <td>None<\/td>\n",
       "      <td>(5,)<\/td>\n",
       "      <td>All<\/td>\n",
       "      <td>(1, 2, 3, 4)<\/td>\n",
       "      <td>None<\/td>\n",
       "      <td>(2, 5)<\/td>\n",
       "      <td>None<\/td>\n",
       "      <td>All<\/td>\n",
       "      <td>(4,)<\/td>\n",
       "      <td>None<\/td>\n",
       "      <td>None<\/td>\n",
       "    <\/tr>\n",
       "    <tr>\n",
       "      <th>MCOILWTICO<\/th>\n",
       "      <td>None<\/td>\n",
       "      <td>All<\/td>\n",
       "      <td>All<\/td>\n",
       "      <td>All<\/td>\n",
       "      <td>(4, 5, 6)<\/td>\n",
       "      <td>(2, 5, 6)<\/td>\n",
       "      <td>None<\/td>\n",
       "      <td>All<\/td>\n",
       "      <td>(4, 5)<\/td>\n",
       "      <td>None<\/td>\n",
       "      <td>None<\/td>\n",
       "    <\/tr>\n",
       "    <tr>\n",
       "      <th>MHHNGSP<\/th>\n",
       "      <td>(2, 3, 4)<\/td>\n",
       "      <td>(3, 5, 6)<\/td>\n",
       "      <td>None<\/td>\n",
       "      <td>(2, 3, 4, 5, 6)<\/td>\n",
       "      <td>(2, 3, 4)<\/td>\n",
       "      <td>None<\/td>\n",
       "      <td>None<\/td>\n",
       "      <td>None<\/td>\n",
       "      <td>(2, 3, 4, 5, 6)<\/td>\n",
       "      <td>None<\/td>\n",
       "      <td>None<\/td>\n",
       "    <\/tr>\n",
       "    <tr>\n",
       "      <th>PBARLUSDM<\/th>\n",
       "      <td>(1, 3, 4, 5, 6)<\/td>\n",
       "      <td>(1, 2)<\/td>\n",
       "      <td>All<\/td>\n",
       "      <td>(1, 2, 3)<\/td>\n",
       "      <td>None<\/td>\n",
       "      <td>(2, 3, 4, 5, 6)<\/td>\n",
       "      <td>(3, 6)<\/td>\n",
       "      <td>All<\/td>\n",
       "      <td>(3, 4, 5, 6)<\/td>\n",
       "      <td>(3, 6)<\/td>\n",
       "      <td>(1, 2, 3)<\/td>\n",
       "    <\/tr>\n",
       "    <tr>\n",
       "      <th>PMAIZMTUSDM<\/th>\n",
       "      <td>None<\/td>\n",
       "      <td>None<\/td>\n",
       "      <td>None<\/td>\n",
       "      <td>None<\/td>\n",
       "      <td>None<\/td>\n",
       "      <td>None<\/td>\n",
       "      <td>None<\/td>\n",
       "      <td>None<\/td>\n",
       "      <td>None<\/td>\n",
       "      <td>None<\/td>\n",
       "      <td>(2, 3)<\/td>\n",
       "    <\/tr>\n",
       "    <tr>\n",
       "      <th>PNGASEUUSDM<\/th>\n",
       "      <td>(1,)<\/td>\n",
       "      <td>None<\/td>\n",
       "      <td>None<\/td>\n",
       "      <td>None<\/td>\n",
       "      <td>None<\/td>\n",
       "      <td>None<\/td>\n",
       "      <td>(1,)<\/td>\n",
       "      <td>(1,)<\/td>\n",
       "      <td>None<\/td>\n",
       "      <td>(1,)<\/td>\n",
       "      <td>None<\/td>\n",
       "    <\/tr>\n",
       "    <tr>\n",
       "      <th>PSOYBUSDM<\/th>\n",
       "      <td>(6,)<\/td>\n",
       "      <td>None<\/td>\n",
       "      <td>(6,)<\/td>\n",
       "      <td>None<\/td>\n",
       "      <td>None<\/td>\n",
       "      <td>(6,)<\/td>\n",
       "      <td>None<\/td>\n",
       "      <td>(2, 3)<\/td>\n",
       "      <td>None<\/td>\n",
       "      <td>None<\/td>\n",
       "      <td>None<\/td>\n",
       "    <\/tr>\n",
       "    <tr>\n",
       "      <th>PWHEAMTUSDM<\/th>\n",
       "      <td>(2, 3, 4, 5, 6)<\/td>\n",
       "      <td>All<\/td>\n",
       "      <td>(1, 2, 3, 5, 6)<\/td>\n",
       "      <td>All<\/td>\n",
       "      <td>(2, 3, 4, 6)<\/td>\n",
       "      <td>(2, 3, 6)<\/td>\n",
       "      <td>None<\/td>\n",
       "      <td>All<\/td>\n",
       "      <td>(2, 3)<\/td>\n",
       "      <td>All<\/td>\n",
       "      <td>None<\/td>\n",
       "    <\/tr>\n",
       "    <tr>\n",
       "      <th>IPG32411S<\/th>\n",
       "      <td>None<\/td>\n",
       "      <td>None<\/td>\n",
       "      <td>None<\/td>\n",
       "      <td>None<\/td>\n",
       "      <td>None<\/td>\n",
       "      <td>None<\/td>\n",
       "      <td>None<\/td>\n",
       "      <td>None<\/td>\n",
       "      <td>None<\/td>\n",
       "      <td>None<\/td>\n",
       "      <td>None<\/td>\n",
       "    <\/tr>\n",
       "    <tr>\n",
       "      <th>A33DNO<\/th>\n",
       "      <td>(5, 6)<\/td>\n",
       "      <td>All<\/td>\n",
       "      <td>None<\/td>\n",
       "      <td>(2, 3, 4, 5, 6)<\/td>\n",
       "      <td>None<\/td>\n",
       "      <td>(5, 6)<\/td>\n",
       "      <td>(2, 5, 6)<\/td>\n",
       "      <td>(5, 6)<\/td>\n",
       "      <td>None<\/td>\n",
       "      <td>(2, 3, 5, 6)<\/td>\n",
       "      <td>(1, 6)<\/td>\n",
       "    <\/tr>\n",
       "    <tr>\n",
       "      <th>PCEC96<\/th>\n",
       "      <td>None<\/td>\n",
       "      <td>None<\/td>\n",
       "      <td>None<\/td>\n",
       "      <td>None<\/td>\n",
       "      <td>None<\/td>\n",
       "      <td>None<\/td>\n",
       "      <td>None<\/td>\n",
       "      <td>None<\/td>\n",
       "      <td>None<\/td>\n",
       "      <td>None<\/td>\n",
       "      <td>(1,)<\/td>\n",
       "    <\/tr>\n",
       "  <\/tbody>\n",
       "<\/table>\n",
       "<\/div>"
      ]
     },
     "metadata":{
      
     },
     "output_type":"display_data"
    }
   ],
   "metadata":{
    "datalore":{
     "type":"CODE",
     "hide_input_from_viewers":false,
     "hide_output_from_viewers":false,
     "node_id":"l7RqpgEHzP0lvhkGJUs6Kb"
    }
   }
  },
  {
   "cell_type":"code",
   "source":[
    "'''\n",
    "granger_EU_0622 = gct_lags_matrix(EU_Milk.loc['2006-01-01':], fred.loc['2006-01-01':])\n",
    "\n",
    "string = granger_EU_0622.iloc[:,5:10].to_latex()\n",
    "string.replace('  ','').replace('\\\\begin{tabular}{llllll}','').replace('\\\\end{tabular}','').replace('\\\\\\\\','\\\\').replace('\\\\\\\\\\\\\\\\\\\\\\\\','\\\\').replace('\\n','').replace('\\\\toprule','').replace('\\\\midrule','').replace('\\\\bottomrule','')\n",
    "''' "
   ],
   "execution_count":29,
   "outputs":[
    {
     "data":{
      "text\/plain":[
       "\"\\ngranger_EU_0622 = gct_lags_matrix(EU_Milk.loc['2006-01-01':], fred.loc['2006-01-01':])\\n\\nstring = granger_EU_0622.iloc[:,5:10].to_latex()\\nstring.replace('  ','').replace('\\\\begin{tabular}{llllll}','').replace('\\\\end{tabular}','').replace('\\\\\\\\','\\\\').replace('\\\\\\\\\\\\\\\\\\\\\\\\','\\\\').replace('\\n','').replace('\\\\toprule','').replace('\\\\midrule','').replace('\\\\bottomrule','')\\n\""
      ]
     },
     "metadata":{
      
     },
     "output_type":"display_data"
    }
   ],
   "metadata":{
    "datalore":{
     "type":"CODE",
     "hide_input_from_viewers":false,
     "hide_output_from_viewers":false,
     "node_id":"znK6z4ZlGNgmMYE8dHOzDG"
    }
   }
  },
  {
   "cell_type":"markdown",
   "source":[
    "## US"
   ],
   "attachments":{
    
   },
   "metadata":{
    "datalore":{
     "type":"MD",
     "hide_input_from_viewers":false,
     "hide_output_from_viewers":false,
     "node_id":"QCBPdQ1yRfGAjMmGiQ6Y4U"
    }
   }
  },
  {
   "cell_type":"code",
   "source":[
    "def get_latex(df,idx_start,idx_end):\n",
    "    string = df.iloc[:,idx_start:idx_end].to_latex()\n",
    "    return string.replace('  ','').replace('\\\\begin{tabular}{llllll}','').replace('\\\\begin{tabular}{lllllll}','').replace('\\\\end{tabular}','').replace('\\\\\\\\','\\\\').replace('\\\\\\\\\\\\\\\\\\\\\\\\','\\\\').replace('\\n','').replace('\\\\toprule','').replace('\\\\midrule','').replace('\\\\bottomrule','')"
   ],
   "execution_count":10,
   "outputs":[
    
   ],
   "metadata":{
    "datalore":{
     "type":"CODE",
     "hide_input_from_viewers":false,
     "hide_output_from_viewers":false,
     "node_id":"PCgxy5JbbhOUdFGpThRmvt"
    }
   }
  },
  {
   "cell_type":"code",
   "source":[
    "granger_US_9205 = gct_lags_matrix(US_Milk.loc['1992-01-01':'2005-12-31'], fred.loc['1992-01-01':'2005-12-31'])\n",
    "#get_latex(granger_US_9205,0,6)\n",
    "granger_US_9205"
   ],
   "execution_count":26,
   "outputs":[
    {
     "data":{
      "text\/html":[
       "<div>\n",
       "<style scoped>\n",
       "    .dataframe tbody tr th:only-of-type {\n",
       "        vertical-align: middle;\n",
       "    }\n",
       "\n",
       "    .dataframe tbody tr th {\n",
       "        vertical-align: top;\n",
       "    }\n",
       "\n",
       "    .dataframe thead th {\n",
       "        text-align: right;\n",
       "    }\n",
       "<\/style>\n",
       "<table border=\"1\" class=\"dataframe\">\n",
       "  <thead>\n",
       "    <tr style=\"text-align: right;\">\n",
       "      <th>State<\/th>\n",
       "      <th>California<\/th>\n",
       "      <th>Wisconsin<\/th>\n",
       "      <th>Idaho<\/th>\n",
       "      <th>Texas<\/th>\n",
       "      <th>New York<\/th>\n",
       "      <th>Michigan<\/th>\n",
       "      <th>Minnesota<\/th>\n",
       "      <th>Pennsylvania<\/th>\n",
       "      <th>New Mexico<\/th>\n",
       "      <th>Washington<\/th>\n",
       "      <th>US Total<\/th>\n",
       "    <\/tr>\n",
       "  <\/thead>\n",
       "  <tbody>\n",
       "    <tr>\n",
       "      <th>MCOILBRENTEU<\/th>\n",
       "      <td>None<\/td>\n",
       "      <td>None<\/td>\n",
       "      <td>None<\/td>\n",
       "      <td>None<\/td>\n",
       "      <td>None<\/td>\n",
       "      <td>(6,)<\/td>\n",
       "      <td>None<\/td>\n",
       "      <td>None<\/td>\n",
       "      <td>None<\/td>\n",
       "      <td>None<\/td>\n",
       "      <td>None<\/td>\n",
       "    <\/tr>\n",
       "    <tr>\n",
       "      <th>MCOILWTICO<\/th>\n",
       "      <td>None<\/td>\n",
       "      <td>None<\/td>\n",
       "      <td>None<\/td>\n",
       "      <td>None<\/td>\n",
       "      <td>None<\/td>\n",
       "      <td>(4, 5, 6)<\/td>\n",
       "      <td>None<\/td>\n",
       "      <td>(3, 4)<\/td>\n",
       "      <td>None<\/td>\n",
       "      <td>None<\/td>\n",
       "      <td>None<\/td>\n",
       "    <\/tr>\n",
       "    <tr>\n",
       "      <th>MHHNGSP<\/th>\n",
       "      <td>None<\/td>\n",
       "      <td>None<\/td>\n",
       "      <td>None<\/td>\n",
       "      <td>None<\/td>\n",
       "      <td>None<\/td>\n",
       "      <td>None<\/td>\n",
       "      <td>None<\/td>\n",
       "      <td>None<\/td>\n",
       "      <td>None<\/td>\n",
       "      <td>None<\/td>\n",
       "      <td>None<\/td>\n",
       "    <\/tr>\n",
       "    <tr>\n",
       "      <th>PBARLUSDM<\/th>\n",
       "      <td>None<\/td>\n",
       "      <td>None<\/td>\n",
       "      <td>None<\/td>\n",
       "      <td>None<\/td>\n",
       "      <td>None<\/td>\n",
       "      <td>None<\/td>\n",
       "      <td>None<\/td>\n",
       "      <td>None<\/td>\n",
       "      <td>None<\/td>\n",
       "      <td>None<\/td>\n",
       "      <td>None<\/td>\n",
       "    <\/tr>\n",
       "    <tr>\n",
       "      <th>PMAIZMTUSDM<\/th>\n",
       "      <td>None<\/td>\n",
       "      <td>None<\/td>\n",
       "      <td>None<\/td>\n",
       "      <td>None<\/td>\n",
       "      <td>None<\/td>\n",
       "      <td>None<\/td>\n",
       "      <td>None<\/td>\n",
       "      <td>None<\/td>\n",
       "      <td>None<\/td>\n",
       "      <td>(1,)<\/td>\n",
       "      <td>None<\/td>\n",
       "    <\/tr>\n",
       "    <tr>\n",
       "      <th>PNGASEUUSDM<\/th>\n",
       "      <td>None<\/td>\n",
       "      <td>None<\/td>\n",
       "      <td>None<\/td>\n",
       "      <td>None<\/td>\n",
       "      <td>None<\/td>\n",
       "      <td>None<\/td>\n",
       "      <td>None<\/td>\n",
       "      <td>(2,)<\/td>\n",
       "      <td>None<\/td>\n",
       "      <td>None<\/td>\n",
       "      <td>None<\/td>\n",
       "    <\/tr>\n",
       "    <tr>\n",
       "      <th>PSOYBUSDM<\/th>\n",
       "      <td>None<\/td>\n",
       "      <td>None<\/td>\n",
       "      <td>None<\/td>\n",
       "      <td>None<\/td>\n",
       "      <td>None<\/td>\n",
       "      <td>(1,)<\/td>\n",
       "      <td>None<\/td>\n",
       "      <td>None<\/td>\n",
       "      <td>None<\/td>\n",
       "      <td>(1,)<\/td>\n",
       "      <td>None<\/td>\n",
       "    <\/tr>\n",
       "    <tr>\n",
       "      <th>PWHEAMTUSDM<\/th>\n",
       "      <td>None<\/td>\n",
       "      <td>None<\/td>\n",
       "      <td>None<\/td>\n",
       "      <td>None<\/td>\n",
       "      <td>None<\/td>\n",
       "      <td>None<\/td>\n",
       "      <td>None<\/td>\n",
       "      <td>None<\/td>\n",
       "      <td>None<\/td>\n",
       "      <td>None<\/td>\n",
       "      <td>None<\/td>\n",
       "    <\/tr>\n",
       "    <tr>\n",
       "      <th>IPG32411S<\/th>\n",
       "      <td>None<\/td>\n",
       "      <td>None<\/td>\n",
       "      <td>None<\/td>\n",
       "      <td>None<\/td>\n",
       "      <td>None<\/td>\n",
       "      <td>None<\/td>\n",
       "      <td>None<\/td>\n",
       "      <td>None<\/td>\n",
       "      <td>None<\/td>\n",
       "      <td>None<\/td>\n",
       "      <td>None<\/td>\n",
       "    <\/tr>\n",
       "    <tr>\n",
       "      <th>A33DNO<\/th>\n",
       "      <td>(1,)<\/td>\n",
       "      <td>(1, 2)<\/td>\n",
       "      <td>None<\/td>\n",
       "      <td>(1, 2)<\/td>\n",
       "      <td>(1, 2, 3)<\/td>\n",
       "      <td>(1, 2)<\/td>\n",
       "      <td>(1, 2)<\/td>\n",
       "      <td>(1, 2, 3)<\/td>\n",
       "      <td>(1, 2, 3)<\/td>\n",
       "      <td>(1,)<\/td>\n",
       "      <td>(1,)<\/td>\n",
       "    <\/tr>\n",
       "    <tr>\n",
       "      <th>PCEC96<\/th>\n",
       "      <td>(2,)<\/td>\n",
       "      <td>(2,)<\/td>\n",
       "      <td>None<\/td>\n",
       "      <td>(2,)<\/td>\n",
       "      <td>None<\/td>\n",
       "      <td>(2,)<\/td>\n",
       "      <td>(2,)<\/td>\n",
       "      <td>(2,)<\/td>\n",
       "      <td>(2,)<\/td>\n",
       "      <td>None<\/td>\n",
       "      <td>(2,)<\/td>\n",
       "    <\/tr>\n",
       "  <\/tbody>\n",
       "<\/table>\n",
       "<\/div>"
      ]
     },
     "metadata":{
      
     },
     "output_type":"display_data"
    }
   ],
   "metadata":{
    "datalore":{
     "type":"CODE",
     "hide_input_from_viewers":false,
     "hide_output_from_viewers":false,
     "node_id":"ttMqxAeRMbVII4rgvgoO6K"
    }
   }
  },
  {
   "cell_type":"code",
   "source":[
    "#get_latex(granger_US_9205,6,11)"
   ],
   "execution_count":25,
   "outputs":[
    
   ],
   "metadata":{
    "datalore":{
     "type":"CODE",
     "hide_input_from_viewers":false,
     "hide_output_from_viewers":false,
     "node_id":"yOJnK4xNokw5J6DLnGGEVl"
    }
   }
  },
  {
   "cell_type":"code",
   "source":[
    "granger_US_0622 = gct_lags_matrix(US_Milk.loc['2006-01-01':], fred.loc['2006-01-01':])\n",
    "#get_latex(granger_US_0622,0,6)\n",
    "granger_US_0622"
   ],
   "execution_count":24,
   "outputs":[
    {
     "data":{
      "text\/html":[
       "<div>\n",
       "<style scoped>\n",
       "    .dataframe tbody tr th:only-of-type {\n",
       "        vertical-align: middle;\n",
       "    }\n",
       "\n",
       "    .dataframe tbody tr th {\n",
       "        vertical-align: top;\n",
       "    }\n",
       "\n",
       "    .dataframe thead th {\n",
       "        text-align: right;\n",
       "    }\n",
       "<\/style>\n",
       "<table border=\"1\" class=\"dataframe\">\n",
       "  <thead>\n",
       "    <tr style=\"text-align: right;\">\n",
       "      <th>State<\/th>\n",
       "      <th>California<\/th>\n",
       "      <th>Wisconsin<\/th>\n",
       "      <th>Idaho<\/th>\n",
       "      <th>Texas<\/th>\n",
       "      <th>New York<\/th>\n",
       "      <th>Michigan<\/th>\n",
       "      <th>Minnesota<\/th>\n",
       "      <th>Pennsylvania<\/th>\n",
       "      <th>New Mexico<\/th>\n",
       "      <th>Washington<\/th>\n",
       "      <th>US Total<\/th>\n",
       "    <\/tr>\n",
       "  <\/thead>\n",
       "  <tbody>\n",
       "    <tr>\n",
       "      <th>MCOILBRENTEU<\/th>\n",
       "      <td>(2, 3, 4, 5, 6)<\/td>\n",
       "      <td>All<\/td>\n",
       "      <td>(3, 5, 6)<\/td>\n",
       "      <td>(2, 3, 5)<\/td>\n",
       "      <td>All<\/td>\n",
       "      <td>All<\/td>\n",
       "      <td>(3,)<\/td>\n",
       "      <td>All<\/td>\n",
       "      <td>(1, 2, 3, 5)<\/td>\n",
       "      <td>(2, 3, 4, 5, 6)<\/td>\n",
       "      <td>(2, 3, 5)<\/td>\n",
       "    <\/tr>\n",
       "    <tr>\n",
       "      <th>MCOILWTICO<\/th>\n",
       "      <td>(2, 3, 4, 5, 6)<\/td>\n",
       "      <td>(1, 2, 3, 4, 5)<\/td>\n",
       "      <td>(3,)<\/td>\n",
       "      <td>(2,)<\/td>\n",
       "      <td>All<\/td>\n",
       "      <td>All<\/td>\n",
       "      <td>(3,)<\/td>\n",
       "      <td>All<\/td>\n",
       "      <td>(2, 3, 5)<\/td>\n",
       "      <td>(2,)<\/td>\n",
       "      <td>(2, 3, 5)<\/td>\n",
       "    <\/tr>\n",
       "    <tr>\n",
       "      <th>MHHNGSP<\/th>\n",
       "      <td>None<\/td>\n",
       "      <td>None<\/td>\n",
       "      <td>None<\/td>\n",
       "      <td>None<\/td>\n",
       "      <td>None<\/td>\n",
       "      <td>None<\/td>\n",
       "      <td>None<\/td>\n",
       "      <td>None<\/td>\n",
       "      <td>None<\/td>\n",
       "      <td>None<\/td>\n",
       "      <td>None<\/td>\n",
       "    <\/tr>\n",
       "    <tr>\n",
       "      <th>PBARLUSDM<\/th>\n",
       "      <td>None<\/td>\n",
       "      <td>None<\/td>\n",
       "      <td>None<\/td>\n",
       "      <td>None<\/td>\n",
       "      <td>(1,)<\/td>\n",
       "      <td>(1, 2)<\/td>\n",
       "      <td>None<\/td>\n",
       "      <td>(1,)<\/td>\n",
       "      <td>(1,)<\/td>\n",
       "      <td>None<\/td>\n",
       "      <td>None<\/td>\n",
       "    <\/tr>\n",
       "    <tr>\n",
       "      <th>PMAIZMTUSDM<\/th>\n",
       "      <td>None<\/td>\n",
       "      <td>None<\/td>\n",
       "      <td>None<\/td>\n",
       "      <td>None<\/td>\n",
       "      <td>None<\/td>\n",
       "      <td>None<\/td>\n",
       "      <td>None<\/td>\n",
       "      <td>None<\/td>\n",
       "      <td>None<\/td>\n",
       "      <td>None<\/td>\n",
       "      <td>None<\/td>\n",
       "    <\/tr>\n",
       "    <tr>\n",
       "      <th>PNGASEUUSDM<\/th>\n",
       "      <td>None<\/td>\n",
       "      <td>None<\/td>\n",
       "      <td>None<\/td>\n",
       "      <td>None<\/td>\n",
       "      <td>None<\/td>\n",
       "      <td>None<\/td>\n",
       "      <td>None<\/td>\n",
       "      <td>None<\/td>\n",
       "      <td>None<\/td>\n",
       "      <td>None<\/td>\n",
       "      <td>None<\/td>\n",
       "    <\/tr>\n",
       "    <tr>\n",
       "      <th>PSOYBUSDM<\/th>\n",
       "      <td>None<\/td>\n",
       "      <td>(1, 2)<\/td>\n",
       "      <td>(2,)<\/td>\n",
       "      <td>(2, 5)<\/td>\n",
       "      <td>(1, 2, 3, 5, 6)<\/td>\n",
       "      <td>(1, 2)<\/td>\n",
       "      <td>(2,)<\/td>\n",
       "      <td>All<\/td>\n",
       "      <td>(2, 5)<\/td>\n",
       "      <td>(1, 2, 5, 6)<\/td>\n",
       "      <td>(2, 5)<\/td>\n",
       "    <\/tr>\n",
       "    <tr>\n",
       "      <th>PWHEAMTUSDM<\/th>\n",
       "      <td>None<\/td>\n",
       "      <td>None<\/td>\n",
       "      <td>None<\/td>\n",
       "      <td>None<\/td>\n",
       "      <td>None<\/td>\n",
       "      <td>(2,)<\/td>\n",
       "      <td>None<\/td>\n",
       "      <td>None<\/td>\n",
       "      <td>None<\/td>\n",
       "      <td>None<\/td>\n",
       "      <td>None<\/td>\n",
       "    <\/tr>\n",
       "    <tr>\n",
       "      <th>IPG32411S<\/th>\n",
       "      <td>None<\/td>\n",
       "      <td>(4, 5, 6)<\/td>\n",
       "      <td>(4, 5, 6)<\/td>\n",
       "      <td>(3, 6)<\/td>\n",
       "      <td>None<\/td>\n",
       "      <td>None<\/td>\n",
       "      <td>(4, 5, 6)<\/td>\n",
       "      <td>(6,)<\/td>\n",
       "      <td>None<\/td>\n",
       "      <td>None<\/td>\n",
       "      <td>None<\/td>\n",
       "    <\/tr>\n",
       "    <tr>\n",
       "      <th>A33DNO<\/th>\n",
       "      <td>None<\/td>\n",
       "      <td>None<\/td>\n",
       "      <td>None<\/td>\n",
       "      <td>None<\/td>\n",
       "      <td>None<\/td>\n",
       "      <td>None<\/td>\n",
       "      <td>None<\/td>\n",
       "      <td>None<\/td>\n",
       "      <td>None<\/td>\n",
       "      <td>None<\/td>\n",
       "      <td>None<\/td>\n",
       "    <\/tr>\n",
       "    <tr>\n",
       "      <th>PCEC96<\/th>\n",
       "      <td>(2, 3, 4, 5, 6)<\/td>\n",
       "      <td>(2, 3, 4, 5, 6)<\/td>\n",
       "      <td>(2, 3, 4, 5, 6)<\/td>\n",
       "      <td>(3, 4, 5, 6)<\/td>\n",
       "      <td>(2, 3, 4, 5, 6)<\/td>\n",
       "      <td>(3, 4, 5)<\/td>\n",
       "      <td>(2, 3, 4, 5, 6)<\/td>\n",
       "      <td>(2, 3, 4, 5, 6)<\/td>\n",
       "      <td>(3, 4, 5, 6)<\/td>\n",
       "      <td>(2, 3, 4, 5, 6)<\/td>\n",
       "      <td>(2, 3, 4, 5, 6)<\/td>\n",
       "    <\/tr>\n",
       "  <\/tbody>\n",
       "<\/table>\n",
       "<\/div>"
      ]
     },
     "metadata":{
      
     },
     "output_type":"display_data"
    }
   ],
   "metadata":{
    "datalore":{
     "type":"CODE",
     "hide_input_from_viewers":false,
     "hide_output_from_viewers":false,
     "node_id":"4RTCbwabb9tNZ1Laa4U52F"
    }
   }
  },
  {
   "cell_type":"code",
   "source":[
    "#get_latex(granger_US_0622,6,11)"
   ],
   "execution_count":23,
   "outputs":[
    
   ],
   "metadata":{
    "datalore":{
     "type":"CODE",
     "hide_input_from_viewers":false,
     "hide_output_from_viewers":false,
     "node_id":"s4UbDTe2d2qJXtcPSA5aLY"
    }
   }
  },
  {
   "cell_type":"markdown",
   "source":[
    "## China"
   ],
   "attachments":{
    
   },
   "metadata":{
    "datalore":{
     "type":"MD",
     "hide_input_from_viewers":false,
     "hide_output_from_viewers":false,
     "node_id":"3GwnG6C9zDlwd6rpHncjhN"
    }
   }
  },
  {
   "cell_type":"code",
   "source":[
    "granger_china_0922 = gct_lags_matrix(china_Milk.to_frame(), fred)\n",
    "#get_latex(granger_china_0922,0,1)\n",
    "granger_china_0922"
   ],
   "execution_count":22,
   "outputs":[
    {
     "data":{
      "text\/html":[
       "<div>\n",
       "<style scoped>\n",
       "    .dataframe tbody tr th:only-of-type {\n",
       "        vertical-align: middle;\n",
       "    }\n",
       "\n",
       "    .dataframe tbody tr th {\n",
       "        vertical-align: top;\n",
       "    }\n",
       "\n",
       "    .dataframe thead th {\n",
       "        text-align: right;\n",
       "    }\n",
       "<\/style>\n",
       "<table border=\"1\" class=\"dataframe\">\n",
       "  <thead>\n",
       "    <tr style=\"text-align: right;\">\n",
       "      <th><\/th>\n",
       "      <th>0<\/th>\n",
       "    <\/tr>\n",
       "  <\/thead>\n",
       "  <tbody>\n",
       "    <tr>\n",
       "      <th>MCOILBRENTEU<\/th>\n",
       "      <td>(3, 4, 5)<\/td>\n",
       "    <\/tr>\n",
       "    <tr>\n",
       "      <th>MCOILWTICO<\/th>\n",
       "      <td>None<\/td>\n",
       "    <\/tr>\n",
       "    <tr>\n",
       "      <th>MHHNGSP<\/th>\n",
       "      <td>None<\/td>\n",
       "    <\/tr>\n",
       "    <tr>\n",
       "      <th>PBARLUSDM<\/th>\n",
       "      <td>(1,)<\/td>\n",
       "    <\/tr>\n",
       "    <tr>\n",
       "      <th>PMAIZMTUSDM<\/th>\n",
       "      <td>None<\/td>\n",
       "    <\/tr>\n",
       "    <tr>\n",
       "      <th>PNGASEUUSDM<\/th>\n",
       "      <td>None<\/td>\n",
       "    <\/tr>\n",
       "    <tr>\n",
       "      <th>PSOYBUSDM<\/th>\n",
       "      <td>None<\/td>\n",
       "    <\/tr>\n",
       "    <tr>\n",
       "      <th>PWHEAMTUSDM<\/th>\n",
       "      <td>None<\/td>\n",
       "    <\/tr>\n",
       "    <tr>\n",
       "      <th>IPG32411S<\/th>\n",
       "      <td>None<\/td>\n",
       "    <\/tr>\n",
       "    <tr>\n",
       "      <th>A33DNO<\/th>\n",
       "      <td>None<\/td>\n",
       "    <\/tr>\n",
       "    <tr>\n",
       "      <th>PCEC96<\/th>\n",
       "      <td>None<\/td>\n",
       "    <\/tr>\n",
       "  <\/tbody>\n",
       "<\/table>\n",
       "<\/div>"
      ]
     },
     "metadata":{
      
     },
     "output_type":"display_data"
    }
   ],
   "metadata":{
    "datalore":{
     "type":"CODE",
     "hide_input_from_viewers":false,
     "hide_output_from_viewers":false,
     "node_id":"xmSHcvXH9uhfpXDoalpE78"
    }
   }
  },
  {
   "cell_type":"markdown",
   "source":[
    "## Oil"
   ],
   "attachments":{
    
   },
   "metadata":{
    "datalore":{
     "type":"MD",
     "hide_input_from_viewers":false,
     "hide_output_from_viewers":false,
     "node_id":"wWAi4Hy4YIGojUXtOSV96d"
    }
   }
  },
  {
   "cell_type":"code",
   "source":[
    "fred.columns"
   ],
   "execution_count":4,
   "outputs":[
    {
     "data":{
      "text\/plain":[
       "Index(['MCOILBRENTEU', 'MCOILWTICO', 'MHHNGSP', 'PBARLUSDM', 'PMAIZMTUSDM',\n",
       "       'PNGASEUUSDM', 'PSOYBUSDM', 'PWHEAMTUSDM', 'IPG32411S', 'A33DNO',\n",
       "       'PCEC96'],\n",
       "      dtype='object')"
      ]
     },
     "metadata":{
      
     },
     "output_type":"display_data"
    }
   ],
   "metadata":{
    "datalore":{
     "type":"CODE",
     "hide_input_from_viewers":false,
     "hide_output_from_viewers":false,
     "node_id":"5qp6YSqReKaRqTFEVbdpGR"
    }
   }
  },
  {
   "cell_type":"code",
   "source":[
    "granger_oil_9205 = gct_lags_matrix(fred.loc['1992-01-01':'2005-12-31',['MCOILBRENTEU']], fred.loc['1992-01-01':'2005-12-31'])\n",
    "#get_latex(granger_oil_9205,0,1)\n",
    "granger_oil_9205"
   ],
   "execution_count":15,
   "outputs":[
    {
     "data":{
      "text\/html":[
       "<div>\n",
       "<style scoped>\n",
       "    .dataframe tbody tr th:only-of-type {\n",
       "        vertical-align: middle;\n",
       "    }\n",
       "\n",
       "    .dataframe tbody tr th {\n",
       "        vertical-align: top;\n",
       "    }\n",
       "\n",
       "    .dataframe thead th {\n",
       "        text-align: right;\n",
       "    }\n",
       "<\/style>\n",
       "<table border=\"1\" class=\"dataframe\">\n",
       "  <thead>\n",
       "    <tr style=\"text-align: right;\">\n",
       "      <th><\/th>\n",
       "      <th>MCOILBRENTEU<\/th>\n",
       "    <\/tr>\n",
       "  <\/thead>\n",
       "  <tbody>\n",
       "    <tr>\n",
       "      <th>MCOILBRENTEU<\/th>\n",
       "      <td>None<\/td>\n",
       "    <\/tr>\n",
       "    <tr>\n",
       "      <th>MCOILWTICO<\/th>\n",
       "      <td>(4,)<\/td>\n",
       "    <\/tr>\n",
       "    <tr>\n",
       "      <th>MHHNGSP<\/th>\n",
       "      <td>None<\/td>\n",
       "    <\/tr>\n",
       "    <tr>\n",
       "      <th>PBARLUSDM<\/th>\n",
       "      <td>None<\/td>\n",
       "    <\/tr>\n",
       "    <tr>\n",
       "      <th>PMAIZMTUSDM<\/th>\n",
       "      <td>(6,)<\/td>\n",
       "    <\/tr>\n",
       "    <tr>\n",
       "      <th>PNGASEUUSDM<\/th>\n",
       "      <td>None<\/td>\n",
       "    <\/tr>\n",
       "    <tr>\n",
       "      <th>PSOYBUSDM<\/th>\n",
       "      <td>None<\/td>\n",
       "    <\/tr>\n",
       "    <tr>\n",
       "      <th>PWHEAMTUSDM<\/th>\n",
       "      <td>None<\/td>\n",
       "    <\/tr>\n",
       "    <tr>\n",
       "      <th>IPG32411S<\/th>\n",
       "      <td>All<\/td>\n",
       "    <\/tr>\n",
       "    <tr>\n",
       "      <th>A33DNO<\/th>\n",
       "      <td>None<\/td>\n",
       "    <\/tr>\n",
       "    <tr>\n",
       "      <th>PCEC96<\/th>\n",
       "      <td>(1, 2, 3)<\/td>\n",
       "    <\/tr>\n",
       "  <\/tbody>\n",
       "<\/table>\n",
       "<\/div>"
      ]
     },
     "metadata":{
      
     },
     "output_type":"display_data"
    }
   ],
   "metadata":{
    "datalore":{
     "type":"CODE",
     "hide_input_from_viewers":false,
     "hide_output_from_viewers":false,
     "node_id":"FyMjA02kcNGapY1CWJnygo"
    }
   }
  },
  {
   "cell_type":"code",
   "source":[
    "granger_oil_0622 = gct_lags_matrix(fred.loc['2006-01-01':'2022-05-31',['MCOILBRENTEU']], fred.loc['2006-01-01':'2022-05-31'])\n",
    "#get_latex(granger_oil_0622,0,1)\n",
    "granger_oil_0622"
   ],
   "execution_count":13,
   "outputs":[
    {
     "data":{
      "text\/html":[
       "<div>\n",
       "<style scoped>\n",
       "    .dataframe tbody tr th:only-of-type {\n",
       "        vertical-align: middle;\n",
       "    }\n",
       "\n",
       "    .dataframe tbody tr th {\n",
       "        vertical-align: top;\n",
       "    }\n",
       "\n",
       "    .dataframe thead th {\n",
       "        text-align: right;\n",
       "    }\n",
       "<\/style>\n",
       "<table border=\"1\" class=\"dataframe\">\n",
       "  <thead>\n",
       "    <tr style=\"text-align: right;\">\n",
       "      <th><\/th>\n",
       "      <th>MCOILBRENTEU<\/th>\n",
       "    <\/tr>\n",
       "  <\/thead>\n",
       "  <tbody>\n",
       "    <tr>\n",
       "      <th>MCOILBRENTEU<\/th>\n",
       "      <td>None<\/td>\n",
       "    <\/tr>\n",
       "    <tr>\n",
       "      <th>MCOILWTICO<\/th>\n",
       "      <td>None<\/td>\n",
       "    <\/tr>\n",
       "    <tr>\n",
       "      <th>MHHNGSP<\/th>\n",
       "      <td>None<\/td>\n",
       "    <\/tr>\n",
       "    <tr>\n",
       "      <th>PBARLUSDM<\/th>\n",
       "      <td>All<\/td>\n",
       "    <\/tr>\n",
       "    <tr>\n",
       "      <th>PMAIZMTUSDM<\/th>\n",
       "      <td>(1, 2)<\/td>\n",
       "    <\/tr>\n",
       "    <tr>\n",
       "      <th>PNGASEUUSDM<\/th>\n",
       "      <td>None<\/td>\n",
       "    <\/tr>\n",
       "    <tr>\n",
       "      <th>PSOYBUSDM<\/th>\n",
       "      <td>All<\/td>\n",
       "    <\/tr>\n",
       "    <tr>\n",
       "      <th>PWHEAMTUSDM<\/th>\n",
       "      <td>All<\/td>\n",
       "    <\/tr>\n",
       "    <tr>\n",
       "      <th>IPG32411S<\/th>\n",
       "      <td>None<\/td>\n",
       "    <\/tr>\n",
       "    <tr>\n",
       "      <th>A33DNO<\/th>\n",
       "      <td>None<\/td>\n",
       "    <\/tr>\n",
       "    <tr>\n",
       "      <th>PCEC96<\/th>\n",
       "      <td>None<\/td>\n",
       "    <\/tr>\n",
       "  <\/tbody>\n",
       "<\/table>\n",
       "<\/div>"
      ]
     },
     "metadata":{
      
     },
     "output_type":"display_data"
    }
   ],
   "metadata":{
    "datalore":{
     "type":"CODE",
     "hide_input_from_viewers":false,
     "hide_output_from_viewers":false,
     "node_id":"hZ2AMYhzWXWnoSScgqLbmE"
    }
   }
  },
  {
   "cell_type":"markdown",
   "source":[
    "# 5. Observations and Insights"
   ],
   "attachments":{
    
   },
   "metadata":{
    "datalore":{
     "type":"MD",
     "hide_input_from_viewers":false,
     "hide_output_from_viewers":false,
     "node_id":"KiLVRNrzS6S058uE4NMJtA"
    }
   }
  },
  {
   "cell_type":"markdown",
   "source":[
    "There are lots of interesting insights from the above Granger-causuality time lags matrices:\n",
    "1. Milk prices for Poland, EU overall and China are not Granger-causal for almost all Fred factors except for some few time lags.  That might simply because of few availability of data points that affect the test.\n",
    "1. Milk prices for all US states are Granger-casual by both oil prices for all time lags except Idaho is just not sensitive for a few time lags.\n",
    "1. Milk prices for most EU countries are Granger-casual by most, if not all time-lags of both oil prices, except for Poland and overall EU.\n",
    "1. MHHNGSP (Henry Hub Gas price) is not useful for all US states and EU countries except for France and Italy for a few time lags.\n",
    "1. PBARLUSDM (Barley price) is useful for all US states and EU countries for most (if not all) time lags, except Poland and overall EU.\n",
    "1. PMAIZMTUSDM (Corn price) is useful for all US states and EU countries for mixed time lags.\n",
    "1. PNGASEUUSDM (Natural gas price) is useful for US States for some time lags but not useful for most EU countries.\n",
    "1. PWHEAMTUSDM (Wheat price) is very useful for all EU countries for all time lags and useful for US states for some time lags.\n",
    "1. While IPG32411S (Petroleum Refineries) is very useful for all US states for most time lags, it's not useful for most EU countries except France and Italy.\n",
    "1. A33DNO (Machineary Manufacturing) is useful for US states and EU countries for some or most time lags.\n",
    "1. PCEC96 (personal consumption expenditures) is useful to predict milk prices for all states for most (if not all) time lags, but not useful at all for EU countries."
   ],
   "attachments":{
    
   },
   "metadata":{
    "datalore":{
     "type":"MD",
     "hide_input_from_viewers":false,
     "hide_output_from_viewers":false,
     "node_id":"rl6GipfxGE9QOVm7Q9UMRw"
    }
   }
  },
  {
   "cell_type":"code",
   "source":[
    
   ],
   "execution_count":null,
   "outputs":[
    
   ],
   "metadata":{
    "datalore":{
     "type":"CODE",
     "hide_input_from_viewers":false,
     "hide_output_from_viewers":false,
     "node_id":"GDHMxC3OTKaIH0CQ7bH02p"
    }
   }
  }
 ],
 "metadata":{
  "kernelspec":{
   "display_name":"Python",
   "language":"python",
   "name":"python"
  },
  "datalore":{
   "version":1,
   "computation_mode":"JUPYTER",
   "package_manager":"pip",
   "base_environment":"default",
   "packages":[
    
   ]
  }
 },
 "nbformat":4,
 "nbformat_minor":4
}